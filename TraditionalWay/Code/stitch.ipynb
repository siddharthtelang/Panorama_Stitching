{
 "cells": [
  {
   "cell_type": "code",
   "execution_count": 1,
   "metadata": {},
   "outputs": [],
   "source": [
    "import numpy as np\n",
    "import matplotlib.pyplot as plt\n",
    "import cv2\n",
    "from skimage.feature import peak_local_max\n",
    "import argparse\n",
    "import os"
   ]
  },
  {
   "cell_type": "code",
   "execution_count": 98,
   "metadata": {},
   "outputs": [],
   "source": [
    "filepath = r\"C:\\Users\\siddh\\Documents\\733\\Panoroma_Stitching\\TraditionalWay\"\n",
    "imagesFolder = r\"Data\\Train\\Set1\"\n",
    "saveFolder = r\"Results\\Set1\"\n",
    "showImages = True\n",
    "useHarris = False\n",
    "choice = 2 # shi-Tomashi , 1 for Harris corner"
   ]
  },
  {
   "cell_type": "code",
   "execution_count": 89,
   "metadata": {},
   "outputs": [],
   "source": [
    "# read the images\n",
    "def readImages(filepath: str):\n",
    "    print('Reading from: ', filepath)\n",
    "    images = []\n",
    "    files = os.listdir(filepath)\n",
    "    sorted(files)\n",
    "    for file in files:\n",
    "        imagePath = os.path.join(filepath, file)\n",
    "        image = cv2.imread(imagePath)\n",
    "        if image is not None:\n",
    "            images.append(image)\n",
    "    print('Read ', len(images), ' images')\n",
    "    return images"
   ]
  },
  {
   "cell_type": "code",
   "execution_count": 90,
   "metadata": {},
   "outputs": [],
   "source": [
    "def makeImagesSizeSame(images:list[np.ndarray])->list[np.ndarray]:\n",
    "    sizeList = []\n",
    "    for image in images:\n",
    "        x, y, ch = image.shape\n",
    "        sizeList.append([x, y, ch])\n",
    "    sizeArr = np.array(sizeList)\n",
    "    r, c, ch = np.max(sizeArr, axis=0)\n",
    "    newImages = []\n",
    "    for i, image in enumerate(images):\n",
    "        resized = np.zeros((r, c, sizeArr[i, 2]), np.uint8)\n",
    "        resized[0:sizeArr[i, 0], 0:sizeArr[i, 1], 0:sizeArr[i, 2]] = image\n",
    "        newImages.append(resized)\n",
    "    return newImages\n",
    "    "
   ]
  },
  {
   "cell_type": "code",
   "execution_count": 91,
   "metadata": {},
   "outputs": [],
   "source": [
    "def displayImages(images:list[np.ndarray], fileName:str):\n",
    "    newImages = makeImagesSizeSame(images)\n",
    "    concatenated = newImages[0].copy()\n",
    "    for i in range(1, len(newImages)):\n",
    "        concatenated = np.concatenate((concatenated, newImages[i]), axis=1)\n",
    "    cv2.imshow(fileName, concatenated)\n",
    "    cv2.waitKey()\n",
    "    cv2.destroyAllWindows()\n",
    "    print('Writing file to ', fileName)\n",
    "    cv2.imwrite(fileName, concatenated)    "
   ]
  },
  {
   "cell_type": "code",
   "execution_count": 105,
   "metadata": {},
   "outputs": [
    {
     "name": "stdout",
     "output_type": "stream",
     "text": [
      "Reading from:  C:\\Users\\siddh\\Documents\\733\\Panoroma_Stitching\\TraditionalWay\\Data\\Train\\Set1\n",
      "Read  3  images\n",
      "Writing file to  C:\\Users\\siddh\\Documents\\733\\Panoroma_Stitching\\TraditionalWay\\Results\\Set1\\concatenated.png\n"
     ]
    }
   ],
   "source": [
    "images = readImages(os.path.join(filepath, imagesFolder))\n",
    "if showImages:\n",
    "    displayImages(images, os.path.join(filepath, saveFolder, 'concatenated.png'))\n",
    "    "
   ]
  },
  {
   "cell_type": "code",
   "execution_count": null,
   "metadata": {},
   "outputs": [],
   "source": []
  }
 ],
 "metadata": {
  "kernelspec": {
   "display_name": "Python 3.10.2 64-bit",
   "language": "python",
   "name": "python3"
  },
  "language_info": {
   "codemirror_mode": {
    "name": "ipython",
    "version": 3
   },
   "file_extension": ".py",
   "mimetype": "text/x-python",
   "name": "python",
   "nbconvert_exporter": "python",
   "pygments_lexer": "ipython3",
   "version": "3.10.2"
  },
  "orig_nbformat": 4,
  "vscode": {
   "interpreter": {
    "hash": "cc24e771aee7caf473c962ac5b583c9aedb01b2d29546d17b198826621475062"
   }
  }
 },
 "nbformat": 4,
 "nbformat_minor": 2
}
