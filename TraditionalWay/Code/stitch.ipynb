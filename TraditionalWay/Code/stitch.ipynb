{
 "cells": [
  {
   "cell_type": "code",
   "execution_count": 1,
   "metadata": {},
   "outputs": [],
   "source": [
    "import numpy as np\n",
    "import matplotlib.pyplot as plt\n",
    "import cv2\n",
    "from skimage.feature import peak_local_max\n",
    "import argparse\n",
    "import os"
   ]
  },
  {
   "cell_type": "code",
   "execution_count": 15,
   "metadata": {},
   "outputs": [],
   "source": [
    "filepath = r\"C:\\Users\\siddh\\Documents\\733\\Panoroma_Stitching\\TraditionalWay\"\n",
    "imagesFolder = r\"\\Data\\Train\\Set1\"\n",
    "saveFolder = r\"\\Code\\Results\\Set1\"\n",
    "showImages = True\n",
    "useHarris = False\n",
    "choice = 2 # shi-Tomashi , 1 for Harris corner"
   ]
  },
  {
   "cell_type": "code",
   "execution_count": 33,
   "metadata": {},
   "outputs": [],
   "source": [
    "# read the images\n",
    "def readImages(filepath):\n",
    "    print('Reading from: ', filepath)\n",
    "    images = []\n",
    "    files = os.listdir(filepath)\n",
    "    sorted(files)\n",
    "    for file in files:\n",
    "        imagePath = os.path.join(filepath, file)\n",
    "        image = cv2.imread(imagePath)\n",
    "        if image is not None:\n",
    "            images.append(image)\n",
    "    print('Read ', len(images), ' images')\n",
    "    return images"
   ]
  },
  {
   "cell_type": "code",
   "execution_count": 34,
   "metadata": {},
   "outputs": [
    {
     "name": "stdout",
     "output_type": "stream",
     "text": [
      "Reading from:  C:\\Users\\siddh\\Documents\\733\\Panoroma_Stitching\\TraditionalWay\\Data\\Train\\Set1\n",
      "Read  3  images\n"
     ]
    }
   ],
   "source": [
    "images = readImages(filepath+imagesFolder)"
   ]
  },
  {
   "cell_type": "code",
   "execution_count": null,
   "metadata": {},
   "outputs": [],
   "source": []
  }
 ],
 "metadata": {
  "kernelspec": {
   "display_name": "Python 3.10.2 64-bit",
   "language": "python",
   "name": "python3"
  },
  "language_info": {
   "codemirror_mode": {
    "name": "ipython",
    "version": 3
   },
   "file_extension": ".py",
   "mimetype": "text/x-python",
   "name": "python",
   "nbconvert_exporter": "python",
   "pygments_lexer": "ipython3",
   "version": "3.10.2"
  },
  "orig_nbformat": 4,
  "vscode": {
   "interpreter": {
    "hash": "cc24e771aee7caf473c962ac5b583c9aedb01b2d29546d17b198826621475062"
   }
  }
 },
 "nbformat": 4,
 "nbformat_minor": 2
}
